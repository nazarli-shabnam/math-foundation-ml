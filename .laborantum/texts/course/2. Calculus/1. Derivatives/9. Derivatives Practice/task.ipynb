{
    "cells": [
        {
            "cell_type": "markdown",
            "metadata": {},
            "source": [
                "# 1D Derivatives"
            ]
        },
        {
            "cell_type": "markdown",
            "metadata": {},
            "source": [
                "In this notebook you will work with derivatives, you will derive derivatives of functions in analytical form (for that you may use the table of Derivatives from the 1st task) and approximate them with finite differences."
            ]
        },
        {
            "cell_type": "code",
            "execution_count": 1,
            "metadata": {},
            "outputs": [],
            "source": [
                "import numpy as np\n",
                "import matplotlib.pyplot as plt\n",
                "import json_tricks\n",
                "\n",
                "answer = {}"
            ]
        },
        {
            "cell_type": "markdown",
            "metadata": {},
            "source": [
                "# Task 1. 1st order derivatives\n",
                "\n",
                "Below are 8 functions. For these functions, write the derivatives using numpy."
            ]
        },
        {
            "cell_type": "code",
            "execution_count": 2,
            "metadata": {},
            "outputs": [],
            "source": [
                "xs = np.linspace(-10, 10, 100)\n",
                "\n",
                "def f1(x):\n",
                "    return 3 * x ** 2 + 5 * x - 7\n",
                "\n",
                "def f2(x):\n",
                "    return np.sin(x) + np.cos(x)\n",
                "\n",
                "def f3(x):\n",
                "    return x ** 2 * np.exp(x)\n",
                "\n",
                "def f4(x):\n",
                "    return (x ** 2 + 1) / (x + 2)\n",
                "\n",
                "def f5(x):\n",
                "    return np.log(3 * x ** 2 + 5)\n",
                "\n",
                "def f6(x):\n",
                "    return x ** 2 * np.exp(x) / np.log(x)"
            ]
        },
        {
            "cell_type": "code",
            "execution_count": 3,
            "metadata": {},
            "outputs": [],
            "source": [
                "def df1(x):\n",
                "    res = x * 0\n",
                "    res=6 * x + 5\n",
                "    return res\n",
                "\n",
                "def df2(x):\n",
                "    res = x * 0\n",
                "    ## YOUR CODE HERE\n",
                "    res=np.cos(x) - np.sin(x)\n",
                "    return res\n",
                "\n",
                "def df3(x):\n",
                "    res = x * 0\n",
                "    ## YOUR CODE HERE\n",
                "    res=(2 * x + x ** 2) * np.exp(x)\n",
                "    return res\n",
                "\n",
                "def df4(x):\n",
                "    res = x * 0\n",
                "    ## YOUR CODE HERE\n",
                "    res=(2 * x + x ** 2) * np.exp(x)\n",
                "    return res\n",
                "\n",
                "def df5(x):\n",
                "    res = x * 0\n",
                "    ## YOUR CODE HERE\n",
                "    res=(6 * x) / (3 * x ** 2 + 5)\n",
                "    return res\n",
                "\n",
                "def df6(x):\n",
                "    res = x * 0\n",
                "    ## YOUR CODE HERE\n",
                "    ((2 * x * np.exp(x) + x ** 2 * np.exp(x)) * np.log(x) - x ** 2 * np.exp(x) * (1 / x)) / (np.log(x) ** 2)\n",
                "    return res"
            ]
        },
        {
            "cell_type": "markdown",
            "metadata": {},
            "source": [
                "# Task 2. 2nd order derivatives"
            ]
        },
        {
            "cell_type": "markdown",
            "metadata": {},
            "source": [
                "For the same functions, write the second order derivatives using numpy."
            ]
        },
        {
            "cell_type": "code",
            "execution_count": 4,
            "metadata": {},
            "outputs": [],
            "source": [
                "def ddf1(x):\n",
                "    res = x * 0\n",
                "    ## YOUR CODE HERE\n",
                "    return res\n",
                "\n",
                "def ddf2(x):\n",
                "    res = x * 0\n",
                "    ## YOUR CODE HERE\n",
                "    return res\n",
                "\n",
                "def ddf3(x):    \n",
                "    res = x * 0\n",
                "    ## YOUR CODE HERE\n",
                "    return res\n",
                "\n",
                "def ddf4(x):\n",
                "    res = x * 0\n",
                "    ## YOUR CODE HERE\n",
                "    return res\n",
                "\n",
                "def ddf5(x):\n",
                "    res = x * 0\n",
                "    ## YOUR CODE HERE\n",
                "    return res\n",
                "\n",
                "def ddf6(x):\n",
                "    res = x * 0\n",
                "    ## YOUR CODE HERE\n",
                "    return res"
            ]
        },
        {
            "cell_type": "code",
            "execution_count": 5,
            "metadata": {},
            "outputs": [],
            "source": [
                "fs = [f1, f2, f3, f4, f5, f6]\n",
                "dfs = [df1, df2, df3, df4, df5, df6]\n",
                "ddfs = [ddf1, ddf2, ddf3, ddf4, ddf5, ddf6]"
            ]
        },
        {
            "cell_type": "markdown",
            "metadata": {},
            "source": [
                "# Task 3. Finite differences\n",
                "\n",
                "Write a function that calculates finite differences:\n",
                "\n",
                "$$\\frac{df}{dx}(x_i) \\approx \\frac{f(x_{i + 1}) - f(x_{i})}{x_{i + 1} - x_i}$$\n",
                "\n",
                "Inputs into this function are:\n",
                "- values of function $f(x_i)$ as `numpy.array` of shape $N$\n",
                "- arguments $x_i$ as `numpy.array` of shape $N$\n",
                "\n",
                "The outputs should be a `numpy.array` with approximate derivatives of shape $N - 1$"
            ]
        },
        {
            "cell_type": "code",
            "execution_count": 6,
            "metadata": {},
            "outputs": [],
            "source": [
                "def finite_differences(f, x):\n",
                "    df_x = f\n",
                "    ## YOUR CODE HERE\n",
                "    return df_x"
            ]
        },
        {
            "cell_type": "markdown",
            "metadata": {},
            "source": [
                "# Comparison of finite differences with analytical derivatives"
            ]
        },
        {
            "cell_type": "markdown",
            "metadata": {},
            "source": [
                "You can play with the code below observing, how granularity of the arguments affect precision of approximation.\n",
                "\n",
                "- first row is the function itself\n",
                "- second -- first derivative\n",
                "- third -- second derivative"
            ]
        },
        {
            "cell_type": "code",
            "execution_count": 7,
            "metadata": {},
            "outputs": [
                {
                    "ename": "ValueError",
                    "evalue": "x and y must have same first dimension, but have shapes (999,) and (1000,)",
                    "output_type": "error",
                    "traceback": [
                        "\u001b[31m---------------------------------------------------------------------------\u001b[39m",
                        "\u001b[31mValueError\u001b[39m                                Traceback (most recent call last)",
                        "\u001b[36mCell\u001b[39m\u001b[36m \u001b[39m\u001b[32mIn[7]\u001b[39m\u001b[32m, line 34\u001b[39m\n\u001b[32m     32\u001b[39m plt.subplot(\u001b[32m3\u001b[39m, \u001b[32m8\u001b[39m, \u001b[32m8\u001b[39m + index)\n\u001b[32m     33\u001b[39m plt.plot(xs, df_x, \u001b[33m'\u001b[39m\u001b[33mo\u001b[39m\u001b[33m'\u001b[39m)\n\u001b[32m---> \u001b[39m\u001b[32m34\u001b[39m \u001b[43mplt\u001b[49m\u001b[43m.\u001b[49m\u001b[43mplot\u001b[49m\u001b[43m(\u001b[49m\u001b[43mxs\u001b[49m\u001b[43m[\u001b[49m\u001b[43m:\u001b[49m\u001b[43m-\u001b[49m\u001b[32;43m1\u001b[39;49m\u001b[43m]\u001b[49m\u001b[43m,\u001b[49m\u001b[43m \u001b[49m\u001b[43mdf_x_approx\u001b[49m\u001b[43m,\u001b[49m\u001b[43m \u001b[49m\u001b[33;43m'\u001b[39;49m\u001b[33;43mo\u001b[39;49m\u001b[33;43m'\u001b[39;49m\u001b[43m)\u001b[49m\n\u001b[32m     35\u001b[39m plt.legend([\u001b[33m'\u001b[39m\u001b[33mAnalytical\u001b[39m\u001b[33m'\u001b[39m, \u001b[33m'\u001b[39m\u001b[33mFinite differences\u001b[39m\u001b[33m'\u001b[39m])\n\u001b[32m     36\u001b[39m plt.grid()\n",
                        "\u001b[36mFile \u001b[39m\u001b[32m/usr/local/lib/python3.11/site-packages/matplotlib/pyplot.py:3794\u001b[39m, in \u001b[36mplot\u001b[39m\u001b[34m(scalex, scaley, data, *args, **kwargs)\u001b[39m\n\u001b[32m   3786\u001b[39m \u001b[38;5;129m@_copy_docstring_and_deprecators\u001b[39m(Axes.plot)\n\u001b[32m   3787\u001b[39m \u001b[38;5;28;01mdef\u001b[39;00m\u001b[38;5;250m \u001b[39m\u001b[34mplot\u001b[39m(\n\u001b[32m   3788\u001b[39m     *args: \u001b[38;5;28mfloat\u001b[39m | ArrayLike | \u001b[38;5;28mstr\u001b[39m,\n\u001b[32m   (...)\u001b[39m\u001b[32m   3792\u001b[39m     **kwargs,\n\u001b[32m   3793\u001b[39m ) -> \u001b[38;5;28mlist\u001b[39m[Line2D]:\n\u001b[32m-> \u001b[39m\u001b[32m3794\u001b[39m     \u001b[38;5;28;01mreturn\u001b[39;00m \u001b[43mgca\u001b[49m\u001b[43m(\u001b[49m\u001b[43m)\u001b[49m\u001b[43m.\u001b[49m\u001b[43mplot\u001b[49m\u001b[43m(\u001b[49m\n\u001b[32m   3795\u001b[39m \u001b[43m        \u001b[49m\u001b[43m*\u001b[49m\u001b[43margs\u001b[49m\u001b[43m,\u001b[49m\n\u001b[32m   3796\u001b[39m \u001b[43m        \u001b[49m\u001b[43mscalex\u001b[49m\u001b[43m=\u001b[49m\u001b[43mscalex\u001b[49m\u001b[43m,\u001b[49m\n\u001b[32m   3797\u001b[39m \u001b[43m        \u001b[49m\u001b[43mscaley\u001b[49m\u001b[43m=\u001b[49m\u001b[43mscaley\u001b[49m\u001b[43m,\u001b[49m\n\u001b[32m   3798\u001b[39m \u001b[43m        \u001b[49m\u001b[43m*\u001b[49m\u001b[43m*\u001b[49m\u001b[43m(\u001b[49m\u001b[43m{\u001b[49m\u001b[33;43m\"\u001b[39;49m\u001b[33;43mdata\u001b[39;49m\u001b[33;43m\"\u001b[39;49m\u001b[43m:\u001b[49m\u001b[43m \u001b[49m\u001b[43mdata\u001b[49m\u001b[43m}\u001b[49m\u001b[43m \u001b[49m\u001b[38;5;28;43;01mif\u001b[39;49;00m\u001b[43m \u001b[49m\u001b[43mdata\u001b[49m\u001b[43m \u001b[49m\u001b[38;5;129;43;01mis\u001b[39;49;00m\u001b[43m \u001b[49m\u001b[38;5;129;43;01mnot\u001b[39;49;00m\u001b[43m \u001b[49m\u001b[38;5;28;43;01mNone\u001b[39;49;00m\u001b[43m \u001b[49m\u001b[38;5;28;43;01melse\u001b[39;49;00m\u001b[43m \u001b[49m\u001b[43m{\u001b[49m\u001b[43m}\u001b[49m\u001b[43m)\u001b[49m\u001b[43m,\u001b[49m\n\u001b[32m   3799\u001b[39m \u001b[43m        \u001b[49m\u001b[43m*\u001b[49m\u001b[43m*\u001b[49m\u001b[43mkwargs\u001b[49m\u001b[43m,\u001b[49m\n\u001b[32m   3800\u001b[39m \u001b[43m    \u001b[49m\u001b[43m)\u001b[49m\n",
                        "\u001b[36mFile \u001b[39m\u001b[32m/usr/local/lib/python3.11/site-packages/matplotlib/axes/_axes.py:1779\u001b[39m, in \u001b[36mAxes.plot\u001b[39m\u001b[34m(self, scalex, scaley, data, *args, **kwargs)\u001b[39m\n\u001b[32m   1536\u001b[39m \u001b[38;5;250m\u001b[39m\u001b[33;03m\"\"\"\u001b[39;00m\n\u001b[32m   1537\u001b[39m \u001b[33;03mPlot y versus x as lines and/or markers.\u001b[39;00m\n\u001b[32m   1538\u001b[39m \n\u001b[32m   (...)\u001b[39m\u001b[32m   1776\u001b[39m \u001b[33;03m(``'green'``) or hex strings (``'#008000'``).\u001b[39;00m\n\u001b[32m   1777\u001b[39m \u001b[33;03m\"\"\"\u001b[39;00m\n\u001b[32m   1778\u001b[39m kwargs = cbook.normalize_kwargs(kwargs, mlines.Line2D)\n\u001b[32m-> \u001b[39m\u001b[32m1779\u001b[39m lines = [*\u001b[38;5;28mself\u001b[39m._get_lines(\u001b[38;5;28mself\u001b[39m, *args, data=data, **kwargs)]\n\u001b[32m   1780\u001b[39m \u001b[38;5;28;01mfor\u001b[39;00m line \u001b[38;5;129;01min\u001b[39;00m lines:\n\u001b[32m   1781\u001b[39m     \u001b[38;5;28mself\u001b[39m.add_line(line)\n",
                        "\u001b[36mFile \u001b[39m\u001b[32m/usr/local/lib/python3.11/site-packages/matplotlib/axes/_base.py:296\u001b[39m, in \u001b[36m_process_plot_var_args.__call__\u001b[39m\u001b[34m(self, axes, data, *args, **kwargs)\u001b[39m\n\u001b[32m    294\u001b[39m     this += args[\u001b[32m0\u001b[39m],\n\u001b[32m    295\u001b[39m     args = args[\u001b[32m1\u001b[39m:]\n\u001b[32m--> \u001b[39m\u001b[32m296\u001b[39m \u001b[38;5;28;01myield from\u001b[39;00m \u001b[38;5;28;43mself\u001b[39;49m\u001b[43m.\u001b[49m\u001b[43m_plot_args\u001b[49m\u001b[43m(\u001b[49m\n\u001b[32m    297\u001b[39m \u001b[43m    \u001b[49m\u001b[43maxes\u001b[49m\u001b[43m,\u001b[49m\u001b[43m \u001b[49m\u001b[43mthis\u001b[49m\u001b[43m,\u001b[49m\u001b[43m \u001b[49m\u001b[43mkwargs\u001b[49m\u001b[43m,\u001b[49m\u001b[43m \u001b[49m\u001b[43mambiguous_fmt_datakey\u001b[49m\u001b[43m=\u001b[49m\u001b[43mambiguous_fmt_datakey\u001b[49m\u001b[43m)\u001b[49m\n",
                        "\u001b[36mFile \u001b[39m\u001b[32m/usr/local/lib/python3.11/site-packages/matplotlib/axes/_base.py:486\u001b[39m, in \u001b[36m_process_plot_var_args._plot_args\u001b[39m\u001b[34m(self, axes, tup, kwargs, return_kwargs, ambiguous_fmt_datakey)\u001b[39m\n\u001b[32m    483\u001b[39m     axes.yaxis.update_units(y)\n\u001b[32m    485\u001b[39m \u001b[38;5;28;01mif\u001b[39;00m x.shape[\u001b[32m0\u001b[39m] != y.shape[\u001b[32m0\u001b[39m]:\n\u001b[32m--> \u001b[39m\u001b[32m486\u001b[39m     \u001b[38;5;28;01mraise\u001b[39;00m \u001b[38;5;167;01mValueError\u001b[39;00m(\u001b[33mf\u001b[39m\u001b[33m\"\u001b[39m\u001b[33mx and y must have same first dimension, but \u001b[39m\u001b[33m\"\u001b[39m\n\u001b[32m    487\u001b[39m                      \u001b[33mf\u001b[39m\u001b[33m\"\u001b[39m\u001b[33mhave shapes \u001b[39m\u001b[38;5;132;01m{\u001b[39;00mx.shape\u001b[38;5;132;01m}\u001b[39;00m\u001b[33m and \u001b[39m\u001b[38;5;132;01m{\u001b[39;00my.shape\u001b[38;5;132;01m}\u001b[39;00m\u001b[33m\"\u001b[39m)\n\u001b[32m    488\u001b[39m \u001b[38;5;28;01mif\u001b[39;00m x.ndim > \u001b[32m2\u001b[39m \u001b[38;5;129;01mor\u001b[39;00m y.ndim > \u001b[32m2\u001b[39m:\n\u001b[32m    489\u001b[39m     \u001b[38;5;28;01mraise\u001b[39;00m \u001b[38;5;167;01mValueError\u001b[39;00m(\u001b[33mf\u001b[39m\u001b[33m\"\u001b[39m\u001b[33mx and y can be no greater than 2D, but have \u001b[39m\u001b[33m\"\u001b[39m\n\u001b[32m    490\u001b[39m                      \u001b[33mf\u001b[39m\u001b[33m\"\u001b[39m\u001b[33mshapes \u001b[39m\u001b[38;5;132;01m{\u001b[39;00mx.shape\u001b[38;5;132;01m}\u001b[39;00m\u001b[33m and \u001b[39m\u001b[38;5;132;01m{\u001b[39;00my.shape\u001b[38;5;132;01m}\u001b[39;00m\u001b[33m\"\u001b[39m)\n",
                        "\u001b[31mValueError\u001b[39m: x and y must have same first dimension, but have shapes (999,) and (1000,)"
                    ]
                },
                {
                    "data": {
                        "image/png": "[encoded data removed]",
                        "text/plain": [
                            "<Figure size 9600x2400 with 2 Axes>"
                        ]
                    },
                    "metadata": {},
                    "output_type": "display_data"
                }
            ],
            "source": [
                "xs = np.linspace(\n",
                "    -2*np.pi, \n",
                "    2*np.pi, \n",
                "    1000 # you can change this value. Check 100, 200, 500, 1000\n",
                ")\n",
                "\n",
                "answer['1D'] = {}\n",
                "\n",
                "plt.figure(figsize=(96, 24))\n",
                "index = 0\n",
                "for f, df, ddf in zip(fs, dfs, ddfs):\n",
                "    index += 1\n",
                "    df_x = df(xs)\n",
                "    ddf_x = ddf(xs)\n",
                "\n",
                "    df_x_approx = finite_differences(f(xs), xs)\n",
                "    ddf_x_approx = finite_differences(df_x_approx, xs[:-1])\n",
                "    \n",
                "    answer['1D']['d' + str(index)] = df_x[~np.isnan(df_x)]\n",
                "    answer['1D']['dd' + str(index)] = ddf_x[~np.isnan(ddf_x)]\n",
                "\n",
                "    answer['1D']['d' + str(index) + '_approx'] = df_x_approx[~np.isnan(df_x_approx)]\n",
                "    answer['1D']['dd' + str(index) + '_approx'] = ddf_x_approx[~np.isnan(ddf_x_approx)]\n",
                "    \n",
                "\n",
                "    plt.subplot(3, 8, index)\n",
                "    plt.plot(xs, f(xs), 'o')\n",
                "    plt.legend(['Analytical'])\n",
                "    plt.grid()\n",
                "    plt.title(str(index))\n",
                "\n",
                "    plt.subplot(3, 8, 8 + index)\n",
                "    plt.plot(xs, df_x, 'o')\n",
                "    plt.plot(xs[:-1], df_x_approx, 'o')\n",
                "    plt.legend(['Analytical', 'Finite differences'])\n",
                "    plt.grid()\n",
                "    plt.title(str(index))\n",
                "\n",
                "\n",
                "    plt.subplot(3, 8, 16 + index)\n",
                "    plt.plot(xs, ddf_x, 'o')\n",
                "    plt.plot(xs[:-2], ddf_x_approx, 'o')\n",
                "    plt.legend(['Analytical', 'Finite differences'])\n",
                "    plt.grid()\n",
                "    plt.title(str(index))\n"
            ]
        },
        {
            "cell_type": "markdown",
            "metadata": {},
            "source": [
                "# 2D Derivatives and Gradients"
            ]
        },
        {
            "cell_type": "markdown",
            "metadata": {},
            "source": [
                "Below are 2D functions. Find their derivatives for $x$ and $y$ and return them as pair of numpy maps.\n",
                "\n",
                "Note that for 2D, `x` and `y` coordinates are 2d maps, every number in these maps is a value of $x$ and $y$ coordinates at that point.\n",
                "\n",
                "`f` is also a map of values of function $f$ for corresponding coordinates $x$ and $y$\n",
                "\n",
                "Example:\n",
                "\n",
                "```\n",
                "x = np.array([\n",
                "    [1, 2],\n",
                "    [1, 2]\n",
                "])\n",
                "\n",
                "y = np.array([\n",
                "    [1, 1],\n",
                "    [2, 2]\n",
                "])\n",
                "\n",
                "f = x ** 2 + y ** 2\n",
                "``` "
            ]
        },
        {
            "cell_type": "code",
            "execution_count": null,
            "metadata": {},
            "outputs": [],
            "source": [
                "def f1(x, y):\n",
                "    res = x + y\n",
                "    ## YOUR CODE HERE\n",
                "    return res\n",
                "\n",
                "def f2(x, y):\n",
                "    res = x + y\n",
                "    ## YOUR CODE HERE\n",
                "    return res\n",
                "\n",
                "def f3(x, y):\n",
                "    res = x + y\n",
                "    ## YOUR CODE HERE\n",
                "    return res\n",
                "\n",
                "def f4(x, y):\n",
                "    res = x + y\n",
                "    ## YOUR CODE HERE\n",
                "    return res\n",
                "\n",
                "def f5(x, y):\n",
                "    res = x + y\n",
                "    ## YOUR CODE HERE\n",
                "    return res\n",
                "\n",
                "def f6(x, y):\n",
                "    res = x + y\n",
                "    ## YOUR CODE HERE\n",
                "    return res"
            ]
        },
        {
            "cell_type": "markdown",
            "metadata": {},
            "source": [
                "# Task 4. Find gradients of 2D functions"
            ]
        },
        {
            "cell_type": "markdown",
            "metadata": {},
            "source": [
                "Write functions that calculate the gradients of the functions above. The function should return a tuple of maps $\\frac{\\partial f}{\\partial x}$, $\\frac{\\partial f}{\\partial y}$"
            ]
        },
        {
            "cell_type": "code",
            "execution_count": null,
            "metadata": {},
            "outputs": [],
            "source": [
                "def grad_f1(x, y):\n",
                "    res = (x, y)\n",
                "    ## YOUR CODE HERE\n",
                "    return res\n",
                "\n",
                "def grad_f2(x, y):\n",
                "    res = (x, y)\n",
                "    ## YOUR CODE HERE\n",
                "    return res\n",
                "\n",
                "def grad_f3(x, y):\n",
                "    res = (x, y)\n",
                "    ## YOUR CODE HERE\n",
                "    return res\n",
                "\n",
                "def grad_f4(x, y):\n",
                "    res = (x, y)\n",
                "    ## YOUR CODE HERE\n",
                "    return res\n",
                "\n",
                "def grad_f5(x, y):\n",
                "    res = (x, y)\n",
                "    ## YOUR CODE HERE\n",
                "    return res\n",
                "\n",
                "def grad_f6(x, y):\n",
                "    res = (x, y)\n",
                "    ## YOUR CODE HERE\n",
                "    return res"
            ]
        },
        {
            "cell_type": "markdown",
            "metadata": {},
            "source": [
                "# Task 4. 2D finite differences"
            ]
        },
        {
            "cell_type": "markdown",
            "metadata": {},
            "source": [
                "For the map $f$ and for two maps of $x$ and $y$, write a function that calculates an approximate derivative by $x$ and $y$ using finite differences:\n",
                "\n",
                "$\\frac{\\partial f}{\\partial x} \\approx \\frac{f_{k + 1,l} - f_{k, l}}{x_{k+1, l} - x_{k, l}}$\n",
                "\n",
                "$\\frac{\\partial f}{\\partial y} \\approx \\frac{f_{k,l + 1} - f_{k, l}}{y_{k, l + 1} - y_{k, l}}$"
            ]
        },
        {
            "cell_type": "code",
            "execution_count": null,
            "metadata": {},
            "outputs": [],
            "source": [
                "def finite_differences_2d(f, x, y):\n",
                "    df_y = (f[1:, :] - f[:-1, :]) / (y[1:, :] - y[:-1, :])\n",
                "    df_x = (f[:, 1:] - f[:, :-1]) / (x[:, 1:] - x[:, :-1])\n",
                "    return df_x, df_y"
            ]
        },
        {
            "cell_type": "markdown",
            "metadata": {},
            "source": [
                "# Vizualization"
            ]
        },
        {
            "cell_type": "code",
            "execution_count": null,
            "metadata": {},
            "outputs": [],
            "source": [
                "N = 100 # you can change this value. Check 10, 20, 50, 100\n",
                "\n",
                "xs = np.linspace(-np.pi/5, np.pi/5, N)\n",
                "ys = np.linspace(-np.pi/5, np.pi/5, N)\n",
                "\n",
                "XS, YS = np.meshgrid(xs, ys)\n",
                "\n",
                "fs = [f1, f2, f3, f4, f5, f6]\n",
                "grad_fs = [grad_f1, grad_f2, grad_f3, grad_f4, grad_f5, grad_f6]\n",
                "\n",
                "answer['2D'] = {}\n",
                "\n",
                "plt.figure(figsize=(12, 8))\n",
                "index = 0\n",
                "for f, grad_f in zip(fs, grad_fs):\n",
                "    # print(f)\n",
                "    index += 1\n",
                "    fs = f(XS, YS)\n",
                "    df_x, df_y = grad_f(XS, YS)\n",
                "    df_x_approx, df_y_approx = finite_differences_2d(fs, XS, YS)\n",
                "    answer['2D']['grad_' + str(index)] = (df_x[~np.isnan(df_x)], df_y[~np.isnan(df_y)])\n",
                "    answer['2D']['grad_' + str(index) + '_approx'] = (df_x_approx[~np.isnan(df_x_approx)], df_y_approx[~np.isnan(df_y_approx)])\n",
                "    \n",
                "\n",
                "    plt.subplot(2, 3, index)\n",
                "    plt.contourf(xs, ys, fs, levels=20)\n",
                "    plt.quiver(\n",
                "        XS[:-1:10, :-1:10].flatten(),\n",
                "        YS[:-1:10, :-1:10].flatten(),\n",
                "        df_x[:-1:10, :-1:10].flatten(),\n",
                "        df_y[:-1:10, :-1:10].flatten(),\n",
                "        color='r',\n",
                "    )\n",
                "    plt.quiver(\n",
                "        XS[:-1:10, :-1:10].flatten(),\n",
                "        YS[:-1:10, :-1:10].flatten(),\n",
                "        df_x_approx[::10, :-1:10].flatten(), \n",
                "        df_y_approx[:-1:10, ::10].flatten(),\n",
                "        color='b'\n",
                "    )\n",
                "    plt.legend(['Analytical', 'Finite differences'])"
            ]
        },
        {
            "cell_type": "markdown",
            "metadata": {},
            "source": [
                "Observe the plots above\n",
                "- How do they look like? Do they make sense?\n",
                "- Do the gradients point in fastest ascent direction?\n",
                "- Are gradients orthogonal to the levels?\n",
                "\n"
            ]
        },
        {
            "cell_type": "code",
            "execution_count": null,
            "metadata": {},
            "outputs": [],
            "source": [
                "json_tricks.dump(answer, '.answer.json')"
            ]
        }
    ],
    "metadata": {
        "kernelspec": {
            "display_name": "Python 3",
            "language": "python",
            "name": "python3"
        },
        "language_info": {
            "codemirror_mode": {
                "name": "ipython",
                "version": 3
            },
            "file_extension": ".py",
            "mimetype": "text/x-python",
            "name": "python",
            "nbconvert_exporter": "python",
            "pygments_lexer": "ipython3",
            "version": "3.11.11"
        }
    },
    "nbformat": 4,
    "nbformat_minor": 2
}
