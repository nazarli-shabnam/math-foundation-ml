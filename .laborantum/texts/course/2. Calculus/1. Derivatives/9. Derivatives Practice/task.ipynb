{
    "cells": [
        {
            "cell_type": "markdown",
            "metadata": {},
            "source": [
                "# 1D Derivatives"
            ]
        },
        {
            "cell_type": "markdown",
            "metadata": {},
            "source": [
                "In this notebook you will work with derivatives, you will derive derivatives of functions in analytical form (for that you may use the table of Derivatives from the 1st task) and approximate them with finite differences."
            ]
        },
        {
            "cell_type": "code",
            "execution_count": null,
            "metadata": {},
            "outputs": [],
            "source": [
                "import numpy as np\n",
                "import matplotlib.pyplot as plt\n",
                "import json_tricks\n",
                "\n",
                "answer = {}"
            ]
        },
        {
            "cell_type": "markdown",
            "metadata": {},
            "source": [
                "# Task 1. 1st order derivatives\n",
                "\n",
                "Below are 8 functions. For these functions, write the derivatives using numpy."
            ]
        },
        {
            "cell_type": "code",
            "execution_count": null,
            "metadata": {},
            "outputs": [],
            "source": [
                "xs = np.linspace(-10, 10, 100)\n",
                "\n",
                "def f1(x):\n",
                "    return 3 * x ** 2 + 5 * x - 7\n",
                "\n",
                "def f2(x):\n",
                "    return np.sin(x) + np.cos(x)\n",
                "\n",
                "def f3(x):\n",
                "    return x ** 2 * np.exp(x)\n",
                "\n",
                "def f4(x):\n",
                "    return (x ** 2 + 1) / (x + 2)\n",
                "\n",
                "def f5(x):\n",
                "    return np.log(3 * x ** 2 + 5)\n",
                "\n",
                "def f6(x):\n",
                "    return x ** 2 * np.exp(x) / np.log(x)"
            ]
        },
        {
            "cell_type": "code",
            "execution_count": null,
            "metadata": {},
            "outputs": [],
            "source": [
                "def df1(x):\n",
                "    res = x * 0\n",
                "    res = 6*x + 5\n",
                "    return res\n",
                "\n",
                "def df2(x):\n",
                "    res = x * 0\n",
                "    res = np.cos(x) - np.sin(x)\n",
                "    return res\n",
                "\n",
                "def df3(x):\n",
                "    res = x * 0\n",
                "    res = np.exp(x) * (2 * x + x ** 2)\n",
                "    return res\n",
                "\n",
                "def df4(x):\n",
                "    res = x * 0\n",
                "    res = (x ** 2 + 4 * x - 1) / (x + 2) ** 2\n",
                "    return res\n",
                "\n",
                "def df5(x):\n",
                "    res = x * 0\n",
                "    res = 6 * x / (3 * x ** 2 + 5)\n",
                "    return res\n",
                "\n",
                "def df6(x):\n",
                "    res = x * 0\n",
                "    numerator = np.exp(x) * (np.log(x) * (2 * x + x ** 2) - x)\n",
                "    denominator = np.log(x) ** 2\n",
                "    res = numerator / denominator\n",
                "    return res"
            ]
        },
        {
            "cell_type": "markdown",
            "metadata": {},
            "source": [
                "# Task 2. 2nd order derivatives"
            ]
        },
        {
            "cell_type": "markdown",
            "metadata": {},
            "source": [
                "For the same functions, write the second order derivatives using numpy."
            ]
        },
        {
            "cell_type": "code",
            "execution_count": null,
            "metadata": {},
            "outputs": [],
            "source": [
                "def ddf1(x):\n",
                "    res = x * 0\n",
                "    res = 6 + 0*x\n",
                "    return res\n",
                "\n",
                "def ddf2(x):\n",
                "    res = x * 0\n",
                "    res = -np.sin(x) - np.cos(x)\n",
                "    return res\n",
                "\n",
                "def ddf3(x):\n",
                "    res = x * 0\n",
                "    res = np.exp(x) * (2 + 4*x + x**2)\n",
                "    return res\n",
                "\n",
                "def ddf4(x):\n",
                "    res = x * 0\n",
                "    res = 10 / (x + 2)**3\n",
                "    return res\n",
                "\n",
                "def ddf5(x):\n",
                "    res = x * 0\n",
                "    res = (30 - 18*x**2) / (3*x**2 + 5)**2\n",
                "    return res\n",
                "\n",
                "def ddf6(x):\n",
                "    res = x * 0\n",
                "    term1 = np.log(x)**2 * np.exp(x) * (1 + np.log(x) * (2 + 4*x + x**2))\n",
                "\n",
                "    term2 = np.exp(x) * (np.log(x) * (2*x + x**2) - x) * (2 * np.log(x) / x)\n",
                "\n",
                "    denom = np.log(x)**4\n",
                "\n",
                "    res = (term1 - term2) / denom\n",
                "    return res"
            ]
        },
        {
            "cell_type": "code",
            "execution_count": null,
            "metadata": {},
            "outputs": [],
            "source": [
                "fs = [f1, f2, f3, f4, f5, f6]\n",
                "dfs = [df1, df2, df3, df4, df5, df6]\n",
                "ddfs = [ddf1, ddf2, ddf3, ddf4, ddf5, ddf6]"
            ]
        },
        {
            "cell_type": "markdown",
            "metadata": {},
            "source": [
                "# Task 3. Finite differences\n",
                "\n",
                "Write a function that calculates finite differences:\n",
                "\n",
                "$$\\frac{df}{dx}(x_i) \\approx \\frac{f(x_{i + 1}) - f(x_{i})}{x_{i + 1} - x_i}$$\n",
                "\n",
                "Inputs into this function are:\n",
                "- values of function $f(x_i)$ as `numpy.array` of shape $N$\n",
                "- arguments $x_i$ as `numpy.array` of shape $N$\n",
                "\n",
                "The outputs should be a `numpy.array` with approximate derivatives of shape $N - 1$"
            ]
        },
        {
            "cell_type": "code",
            "execution_count": null,
            "metadata": {},
            "outputs": [],
            "source": [
                "def finite_differences(f, x):\n",
                "    f = np.asarray(f)\n",
                "    x = np.asarray(x)\n",
                "\n",
                "    df_x = (f[1:] - f[:-1]) / (x[1:] - x[:-1])\n",
                "    return df_x"
            ]
        },
        {
            "cell_type": "markdown",
            "metadata": {},
            "source": [
                "# Comparison of finite differences with analytical derivatives"
            ]
        },
        {
            "cell_type": "markdown",
            "metadata": {},
            "source": [
                "You can play with the code below observing, how granularity of the arguments affect precision of approximation.\n",
                "\n",
                "- first row is the function itself\n",
                "- second -- first derivative\n",
                "- third -- second derivative"
            ]
        },
        {
            "cell_type": "code",
            "execution_count": null,
            "metadata": {},
            "outputs": [],
            "source": [
                "xs = np.linspace(\n",
                "    -2*np.pi,\n",
                "    2*np.pi,\n",
                "    1000 # you can change this value. Check 100, 200, 500, 1000\n",
                ")\n",
                "\n",
                "answer['1D'] = {}\n",
                "\n",
                "plt.figure(figsize=(96, 24))\n",
                "index = 0\n",
                "for f, df, ddf in zip(fs, dfs, ddfs):\n",
                "    index += 1\n",
                "    df_x = df(xs)\n",
                "    ddf_x = ddf(xs)\n",
                "\n",
                "    df_x_approx = finite_differences(f(xs), xs)\n",
                "    ddf_x_approx = finite_differences(df_x_approx, xs[:-1])\n",
                "\n",
                "    answer['1D']['d' + str(index)] = df_x[~np.isnan(df_x)]\n",
                "    answer['1D']['dd' + str(index)] = ddf_x[~np.isnan(ddf_x)]\n",
                "\n",
                "    answer['1D']['d' + str(index) + '_approx'] = df_x_approx[~np.isnan(df_x_approx)]\n",
                "    answer['1D']['dd' + str(index) + '_approx'] = ddf_x_approx[~np.isnan(ddf_x_approx)]\n",
                "\n",
                "\n",
                "    plt.subplot(3, 8, index)\n",
                "    plt.plot(xs, f(xs), 'o')\n",
                "    plt.legend(['Analytical'])\n",
                "    plt.grid()\n",
                "    plt.title(str(index))\n",
                "\n",
                "    plt.subplot(3, 8, 8 + index)\n",
                "    plt.plot(xs, df_x, 'o')\n",
                "    plt.plot(xs[:-1], df_x_approx, 'o')\n",
                "    plt.legend(['Analytical', 'Finite differences'])\n",
                "    plt.grid()\n",
                "    plt.title(str(index))\n",
                "\n",
                "\n",
                "    plt.subplot(3, 8, 16 + index)\n",
                "    plt.plot(xs, ddf_x, 'o')\n",
                "    plt.plot(xs[:-2], ddf_x_approx, 'o')\n",
                "    plt.legend(['Analytical', 'Finite differences'])\n",
                "    plt.grid()\n",
                "    plt.title(str(index))\n"
            ]
        },
        {
            "cell_type": "markdown",
            "metadata": {},
            "source": [
                "# 2D Derivatives and Gradients"
            ]
        },
        {
            "cell_type": "markdown",
            "metadata": {},
            "source": [
                "Below are 2D functions. Find their derivatives for $x$ and $y$ and return them as pair of numpy maps.\n",
                "\n",
                "Note that for 2D, `x` and `y` coordinates are 2d maps, every number in these maps is a value of $x$ and $y$ coordinates at that point.\n",
                "\n",
                "`f` is also a map of values of function $f$ for corresponding coordinates $x$ and $y$\n",
                "\n",
                "Example:\n",
                "\n",
                "```\n",
                "x = np.array([\n",
                "    [1, 2],\n",
                "    [1, 2]\n",
                "])\n",
                "\n",
                "y = np.array([\n",
                "    [1, 1],\n",
                "    [2, 2]\n",
                "])\n",
                "\n",
                "f = x ** 2 + y ** 2\n",
                "``` "
            ]
        },
        {
            "cell_type": "code",
            "execution_count": null,
            "metadata": {},
            "outputs": [],
            "source": [
                "def f1(x, y):\n",
                "    res = np.exp(-0.1 * (x**2 + y**2))\n",
                "    return res\n",
                "\n",
                "def f2(x, y):\n",
                "    res = np.sin(x) * np.cos(y)\n",
                "    return res\n",
                "\n",
                "def f3(x, y):\n",
                "    res = np.sin(x) + np.cos(y)\n",
                "    return res\n",
                "\n",
                "def f4(x, y):\n",
                "    res = -np.exp(-0.2 * (x**2 + y**2)) + 0.5 * np.sin(3*x) * np.sin(3*y)\n",
                "    return res\n",
                "\n",
                "def f5(x, y):\n",
                "    res = np.sin(x * 2) * np.cos(y * 2) + 0.2 * np.sin(5*x) * np.cos(5*y)\n",
                "    return res\n",
                "\n",
                "def f6(x, y):\n",
                "    res = np.sin(5*x) * np.sin(5*y)\n",
                "    return res"
            ]
        },
        {
            "cell_type": "markdown",
            "metadata": {},
            "source": [
                "# Task 4. Find gradients of 2D functions"
            ]
        },
        {
            "cell_type": "markdown",
            "metadata": {},
            "source": [
                "Write functions that calculate the gradients of the functions above. The function should return a tuple of maps $\\frac{\\partial f}{\\partial x}$, $\\frac{\\partial f}{\\partial y}$"
            ]
        },
        {
            "cell_type": "code",
            "execution_count": null,
            "metadata": {},
            "outputs": [],
            "source": [
                "def grad_f1(x, y):\n",
                "    res = (x, y)\n",
                "    f1_val = np.exp(-0.1 * (x**2 + y**2))\n",
                "    df1_dx = -0.2 * x * f1_val\n",
                "    df1_dy = -0.2 * y * f1_val\n",
                "    res = (df1_dx, df1_dy)\n",
                "    return res\n",
                "\n",
                "def grad_f2(x, y):\n",
                "    res = (x, y)\n",
                "    df2_dx = np.cos(x) * np.cos(y)\n",
                "    df2_dy = -np.sin(x) * np.sin(y)\n",
                "    res = (df2_dx, df2_dy)\n",
                "    return res\n",
                "\n",
                "def grad_f3(x, y):\n",
                "    res = (x, y)\n",
                "    df3_dx = np.cos(x)\n",
                "    df3_dy = -np.sin(y)\n",
                "    res = (df3_dx, df3_dy)\n",
                "    return res\n",
                "\n",
                "def grad_f4(x, y):\n",
                "    res = (x, y)\n",
                "    exp_term = np.exp(-0.2 * (x**2 + y**2))\n",
                "\n",
                "    df4_dx = 0.4 * x * exp_term + 1.5 * np.cos(3*x) * np.sin(3*y)\n",
                "    df4_dy = 0.4 * y * exp_term + 1.5 * np.sin(3*x) * np.cos(3*y)\n",
                "    res = (df4_dx, df4_dy)\n",
                "    return res\n",
                "\n",
                "def grad_f5(x, y):\n",
                "    res = (x, y)\n",
                "    df5_dx = 2 * np.cos(2*x) * np.cos(2*y) + 1 * np.cos(5*x) * np.cos(5*y)\n",
                "    df5_dy = -2 * np.sin(2*x) * np.sin(2*y) - 1 * np.sin(5*x) * np.sin(5*y)\n",
                "    res = (df5_dx, df5_dy)\n",
                "    return res\n",
                "\n",
                "def grad_f6(x, y):\n",
                "    res = (x, y)\n",
                "    df6_dx = 5 * np.cos(5*x) * np.sin(5*y)\n",
                "    df6_dy = 5 * np.sin(5*x) * np.cos(5*y)\n",
                "    res = (df6_dx, df6_dy)\n",
                "    return res"
            ]
        },
        {
            "cell_type": "markdown",
            "metadata": {},
            "source": [
                "# Task 4. 2D finite differences"
            ]
        },
        {
            "cell_type": "markdown",
            "metadata": {},
            "source": [
                "For the map $f$ and for two maps of $x$ and $y$, write a function that calculates an approximate derivative by $x$ and $y$ using finite differences:\n",
                "\n",
                "$\\frac{\\partial f}{\\partial x} \\approx \\frac{f_{k + 1,l} - f_{k, l}}{x_{k+1, l} - x_{k, l}}$\n",
                "\n",
                "$\\frac{\\partial f}{\\partial y} \\approx \\frac{f_{k,l + 1} - f_{k, l}}{y_{k, l + 1} - y_{k, l}}$"
            ]
        },
        {
            "cell_type": "code",
            "execution_count": null,
            "metadata": {},
            "outputs": [],
            "source": [
                "def finite_differences_2d(f, x, y):\n",
                "    df_y = (f[1:, :] - f[:-1, :]) / (y[1:, :] - y[:-1, :])\n",
                "    df_x = (f[:, 1:] - f[:, :-1]) / (x[:, 1:] - x[:, :-1])\n",
                "    return df_x, df_y"
            ]
        },
        {
            "cell_type": "markdown",
            "metadata": {},
            "source": [
                "# Vizualization"
            ]
        },
        {
            "cell_type": "code",
            "execution_count": null,
            "metadata": {},
            "outputs": [],
            "source": [
                "N = 100 # you can change this value. Check 10, 20, 50, 100\n",
                "\n",
                "xs = np.linspace(-np.pi/5, np.pi/5, N)\n",
                "ys = np.linspace(-np.pi/5, np.pi/5, N)\n",
                "\n",
                "XS, YS = np.meshgrid(xs, ys)\n",
                "\n",
                "fs = [f1, f2, f3, f4, f5, f6]\n",
                "grad_fs = [grad_f1, grad_f2, grad_f3, grad_f4, grad_f5, grad_f6]\n",
                "\n",
                "answer['2D'] = {}\n",
                "\n",
                "plt.figure(figsize=(12, 8))\n",
                "index = 0\n",
                "for f, grad_f in zip(fs, grad_fs):\n",
                "    # print(f)\n",
                "    index += 1\n",
                "    fs = f(XS, YS)\n",
                "    df_x, df_y = grad_f(XS, YS)\n",
                "    df_x_approx, df_y_approx = finite_differences_2d(fs, XS, YS)\n",
                "    answer['2D']['grad_' + str(index)] = (df_x[~np.isnan(df_x)], df_y[~np.isnan(df_y)])\n",
                "    answer['2D']['grad_' + str(index) + '_approx'] = (df_x_approx[~np.isnan(df_x_approx)], df_y_approx[~np.isnan(df_y_approx)])\n",
                "\n",
                "\n",
                "    plt.subplot(2, 3, index)\n",
                "    plt.contourf(xs, ys, fs, levels=20)\n",
                "    plt.quiver(\n",
                "        XS[:-1:10, :-1:10].flatten(),\n",
                "        YS[:-1:10, :-1:10].flatten(),\n",
                "        df_x[:-1:10, :-1:10].flatten(),\n",
                "        df_y[:-1:10, :-1:10].flatten(),\n",
                "        color='r',\n",
                "    )\n",
                "    plt.quiver(\n",
                "        XS[:-1:10, :-1:10].flatten(),\n",
                "        YS[:-1:10, :-1:10].flatten(),\n",
                "        df_x_approx[::10, :-1:10].flatten(),\n",
                "        df_y_approx[:-1:10, ::10].flatten(),\n",
                "        color='b'\n",
                "    )\n",
                "    plt.legend(['Analytical', 'Finite differences'])"
            ]
        },
        {
            "cell_type": "markdown",
            "metadata": {},
            "source": [
                "Observe the plots above\n",
                "- How do they look like? Do they make sense?\n",
                "- Do the gradients point in fastest ascent direction?\n",
                "- Are gradients orthogonal to the levels?\n",
                "\n"
            ]
        },
        {
            "cell_type": "code",
            "execution_count": null,
            "metadata": {},
            "outputs": [],
            "source": [
                "json_tricks.dump(answer, '.answer.json')"
            ]
        }
    ],
    "metadata": {
        "kernelspec": {
            "display_name": "Python 3",
            "language": "python",
            "name": "python3"
        },
        "language_info": {
            "codemirror_mode": {
                "name": "ipython",
                "version": 3
            },
            "file_extension": ".py",
            "mimetype": "text/x-python",
            "name": "python",
            "nbconvert_exporter": "python",
            "pygments_lexer": "ipython3",
            "version": "3.11.11"
        }
    },
    "nbformat": 4,
    "nbformat_minor": 2
}
