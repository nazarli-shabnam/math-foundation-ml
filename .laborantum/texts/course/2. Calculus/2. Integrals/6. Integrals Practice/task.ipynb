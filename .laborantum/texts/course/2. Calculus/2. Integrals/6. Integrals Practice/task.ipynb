{
    "cells": [
        {
            "cell_type": "code",
            "execution_count": null,
            "metadata": {},
            "outputs": [],
            "source": [
                "import numpy as np\n",
                "import matplotlib.pyplot as plt\n",
                "import json_tricks\n",
                "\n",
                "answer = {}"
            ]
        },
        {
            "cell_type": "markdown",
            "metadata": {},
            "source": [
                "## Task 1. Analytical integrals\n",
                "\n",
                "Find formulae of integrals for the functions below from $1$ to $x$:\n",
                "\n",
                "$\\int_1^x f(x) dx$"
            ],
            "outputs": []
        },
        {
            "cell_type": "code",
            "execution_count": null,
            "metadata": {},
            "outputs": [],
            "source": [
                "def f1(x):\n",
                "    return 3 * x**2\n",
                "\n",
                "def f2(x):\n",
                "    return 5*x**4 - 2*x**3 + x\n",
                "\n",
                "def f3(x):\n",
                "    return np.cos(x) ** 2 + 2 * np.sin(x) * np.cos(x)\n",
                "\n",
                "def f4(x):\n",
                "    return x * np.exp(x**2)\n",
                "\n",
                "def f5(x):\n",
                "    return x * np.log(x)\n",
                "\n",
                "def f6(x):\n",
                "    return x / (x**2 + 1)\n",
                "\n",
                "def f7(x):\n",
                "    return np.exp(x) * np.sin(x)\n",
                "\n",
                "def f8(x):\n",
                "    return np.exp(x) * x\n",
                "\n",
                "def f9(x):\n",
                "    return x ** 2 * np.log(x)\n",
                "\n",
                "def f10(x):\n",
                "    return np.sin(x) / (1 + np.cos(x))"
            ]
        },
        {
            "cell_type": "code",
            "execution_count": null,
            "metadata": {},
            "outputs": [],
            "source": [
                "def int_f1(x):\n",
                "    res = x\n",
                "    ##YOUR CODE HERE\n",
                "    return res\n",
                "\n",
                "def int_f2(x):\n",
                "    res = x\n",
                "    ##YOUR CODE HERE\n",
                "    return res\n",
                "\n",
                "def int_f3(x):\n",
                "    res = x\n",
                "    ##YOUR CODE HERE\n",
                "    return res\n",
                "\n",
                "def int_f4(x):\n",
                "    res = x\n",
                "    ##YOUR CODE HERE\n",
                "    return res\n",
                "\n",
                "def int_f5(x):\n",
                "    res = x\n",
                "    ##YOUR CODE HERE\n",
                "    return res\n",
                "\n",
                "def int_f6(x):\n",
                "    res = x\n",
                "    ##YOUR CODE HERE\n",
                "    return res\n",
                "\n",
                "def int_f7(x):\n",
                "    res = x\n",
                "    ##YOUR CODE HERE\n",
                "    return res\n",
                "\n",
                "def int_f8(x):\n",
                "    res = x\n",
                "    ##YOUR CODE HERE\n",
                "    return res\n",
                "\n",
                "def int_f9(x):\n",
                "    res = x\n",
                "    ##YOUR CODE HERE\n",
                "    return res\n",
                "\n",
                "def int_f10(x):\n",
                "    res = x\n",
                "    ##YOUR CODE HERE\n",
                "    return res"
            ]
        },
        {
            "cell_type": "code",
            "execution_count": null,
            "metadata": {},
            "outputs": [],
            "source": [
                "fs = [f1, f2, f3, f4, f5, f6, f7, f8, f9, f10]\n",
                "int_fs = [int_f1, int_f2, int_f3, int_f4, int_f5, int_f6, int_f7, int_f8, int_f9, int_f10]\n",
                "\n",
                "x = np.linspace(1, 5, 100)\n",
                "answer['integrals'] = [int_f(x) for int_f in int_fs]"
            ]
        },
        {
            "cell_type": "markdown",
            "metadata": {},
            "source": [
                "## Task 2. Rectangle approximation\n",
                "\n",
                "Write a function that calculates approximate integral with $N$ eqidistant rectangles. Use middle point approximation for the best result."
            ],
            "outputs": []
        },
        {
            "cell_type": "code",
            "execution_count": null,
            "metadata": {},
            "outputs": [],
            "source": [
                "def approx_int_squares(f, a, b, n):\n",
                "    res = 0\n",
                "    ##YOUR CODE HERE\n",
                "    return res"
            ]
        },
        {
            "cell_type": "markdown",
            "metadata": {},
            "source": [
                "## Task 3. Trapezoid approximation\n",
                "\n",
                "Write a function that calculates approximate integral with $N$ eqidistant trapezoids"
            ],
            "outputs": []
        },
        {
            "cell_type": "code",
            "execution_count": null,
            "metadata": {},
            "outputs": [],
            "source": [
                "def approx_int_trapezoids(f, a, b, n):\n",
                "    res = 0\n",
                "    ##YOUR CODE HERE\n",
                "    return res"
            ]
        },
        {
            "cell_type": "code",
            "execution_count": null,
            "metadata": {},
            "outputs": [],
            "source": [
                "for x in np.linspace(1, 5):\n",
                "    answer['squares'] = [approx_int_squares(f, 1, x, 10) for f in fs]\n",
                "    answer['trapezoids'] = [approx_int_squares(f, 1, x, 10) for f in fs]"
            ]
        },
        {
            "cell_type": "markdown",
            "metadata": {},
            "source": [
                "## Step 4: Visualization\n",
                "\n",
                "First of all, there will be a vizualization of trapezoids and rectangles that are used to approximate the integrals."
            ],
            "outputs": []
        },
        {
            "cell_type": "code",
            "execution_count": null,
            "metadata": {},
            "outputs": [],
            "source": [
                "# You can change this N afterwards to check how good is the\n",
                "# approximation and to check how the trapezoids and rectangles\n",
                "# fill the area under the curve\n",
                "N = 10\n",
                "b = 2\n",
                "\n",
                "plt.figure(figsize=(10, 20))\n",
                "for index in range(len(fs)):\n",
                "    print('===', str(index))\n",
                "    f = fs[index]\n",
                "    int_f = int_fs[index]\n",
                "    plt.subplot(10, 1, index + 1)\n",
                "    x = np.linspace(1, b, 1000)\n",
                "    plt.plot(x, f(x), linewidth=4)\n",
                "\n",
                "    x = np.linspace(1, b, N)\n",
                "    squares_x = []\n",
                "    squares_y = []\n",
                "    for index in range(len(x) - 1):\n",
                "        squares_x.extend([x[index], x[index], x[index + 1], x[index + 1]])\n",
                "        squares_y.extend([0, f((x[index] + x[index + 1])/2), f((x[index] + x[index + 1])/2), 0])\n",
                "\n",
                "    plt.plot(squares_x, squares_y)\n",
                "    plt.grid()\n",
                "    plt.axhline(0, color='black', linewidth=0.8)\n",
                "\n",
                "    x = np.linspace(1, b, N)\n",
                "    trapezoids_x = []\n",
                "    trapezoids_y = []\n",
                "    for index in range(len(x) - 1):\n",
                "        trapezoids_x.extend([x[index], x[index], x[index + 1], x[index + 1]])\n",
                "        trapezoids_y.extend([0, f(x[index]), f(x[index + 1]), 0])\n",
                "\n",
                "    plt.plot(trapezoids_x, trapezoids_y)\n",
                "    # plt.grid()\n",
                "    plt.axhline(0, color='black', linewidth=0.8)\n",
                "    plt.legend(['function', 'rectangles', 'trapezoids'])\n",
                "\n",
                "    int_f_exact = int_f(2)\n",
                "    int_f_squares = approx_int_squares(f, 1, 2, N)\n",
                "    int_f_trapezoids = approx_int_trapezoids(f, 1, 2, N)\n",
                "\n",
                "    \n",
                "    print(int_f_exact)\n",
                "    print(int_f_squares)\n",
                "    print(int_f_trapezoids)\n",
                "    print('===')\n"
            ]
        },
        {
            "cell_type": "markdown",
            "metadata": {},
            "source": [
                "# Step 5:\n",
                "\n",
                "Check yourself. \n",
                "\n",
                "With integrals it is very easy to check yourself whether you found an integral correctly. You only have to differentiate the integral function, and what you should get is the original function that you are integrating."
            ],
            "outputs": []
        },
        {
            "cell_type": "code",
            "execution_count": null,
            "metadata": {},
            "outputs": [],
            "source": [
                "# Change the discretization to check whether the derivative converges to the original function\n",
                "x = np.linspace(1, 2, 100)\n",
                "\n",
                "for index in range(len(fs)):\n",
                "    f = fs[index]\n",
                "    int_f = int_fs[index]\n",
                "    \n",
                "    f_vals = f(x)\n",
                "    int_f_vals = int_f(x)\n",
                "\n",
                "    d_int_f_approx = (int_f_vals[1:] - int_f_vals[:-1]) / (x[1:] - x[:-1])\n",
                "\n",
                "    plt.plot(d_int_f_approx - f_vals[:-1])\n",
                "\n",
                "\n",
                "    \n"
            ]
        },
        {
            "cell_type": "code",
            "execution_count": null,
            "metadata": {},
            "outputs": [],
            "source": [
                "json_tricks.dump(answer, '.answer.json')"
            ]
        }
    ],
    "metadata": {
        "kernelspec": {
            "display_name": "Python 3",
            "language": "python",
            "name": "python3"
        },
        "language_info": {
            "codemirror_mode": {
                "name": "ipython",
                "version": 3
            },
            "file_extension": ".py",
            "mimetype": "text/x-python",
            "name": "python",
            "nbconvert_exporter": "python",
            "pygments_lexer": "ipython3",
            "version": "3.11.11"
        }
    },
    "nbformat": 4,
    "nbformat_minor": 2
}