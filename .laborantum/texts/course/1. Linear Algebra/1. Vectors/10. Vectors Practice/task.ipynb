<<<<<<< HEAD
{
    "cells": [
        {
            "cell_type": "markdown",
            "metadata": {},
            "source": [
                "# Vectors Practice"
            ],
            "outputs": []
        },
        {
            "cell_type": "markdown",
            "metadata": {},
            "source": [
                "In this chapter we will work with vectors and code Gramm-Schmidt Orthonormalization Algorithm"
            ],
            "outputs": []
        },
        {
            "cell_type": "code",
            "execution_count": null,
            "metadata": {},
            "outputs": [],
            "source": [
                "import numpy as np\n",
                "import matplotlib.pyplot as plt\n",
                "import lovely_numpy as ln\n",
                "import json_tricks\n",
                "\n"
            ]
        },
        {
            "cell_type": "code",
            "execution_count": null,
            "metadata": {},
            "outputs": [],
            "source": [
                "inputs = json_tricks.load('.inputs.json')\n",
                "answers = {}"
            ]
        },
        {
            "cell_type": "markdown",
            "metadata": {},
            "source": [
                "In your input you have arrys of shape $N \\times 2$, which means that you have 2 vectors both having N coordinates"
            ],
            "outputs": []
        },
        {
            "cell_type": "code",
            "execution_count": null,
            "metadata": {},
            "outputs": [],
            "source": [
                "for one_input in inputs:\n",
                "    print(ln.lovely(one_input['X']))"
            ]
        },
        {
            "cell_type": "markdown",
            "metadata": {},
            "source": [
                "# Task 1. Vector lenghts\n",
                "\n",
                "- Write a function that calculates vector lengths, answer should return array of shape $2$\n",
                "- Apply this function to all the inputs"
            ],
            "outputs": []
        },
        {
            "cell_type": "code",
            "execution_count": null,
            "metadata": {},
            "outputs": [],
            "source": [
                "def get_length(X):\n",
                "    res = None\n",
                "    ## YOUR CODE HERE\n",
                "    return res"
            ]
        },
        {
            "cell_type": "code",
            "execution_count": null,
            "metadata": {},
            "outputs": [],
            "source": [
                "answers['lengths'] = [\n",
                "    get_length(**inp) for inp in inputs\n",
                "]"
            ]
        },
        {
            "cell_type": "markdown",
            "metadata": {},
            "source": [
                "# Task 2. Vector directions\n",
                "\n",
                "- Write a function that calculates vector directions. Result should be of the same shape as the original array X\n",
                "- Use $10^{-8}$ addition in division to avoid division by zero\n",
                "- Apply this function to all arrays in the inputs"
            ],
            "outputs": []
        },
        {
            "cell_type": "code",
            "execution_count": null,
            "metadata": {},
            "outputs": [],
            "source": [
                "def get_directions(X):\n",
                "    res = None\n",
                "    ## YOUR CODE HERE\n",
                "    return res"
            ]
        },
        {
            "cell_type": "code",
            "execution_count": null,
            "metadata": {},
            "outputs": [],
            "source": [
                "answers['directions'] = [\n",
                "    get_directions(**inp) for inp in inputs\n",
                "]"
            ]
        },
        {
            "cell_type": "markdown",
            "metadata": {},
            "source": [
                "# Step 3. Visualization\n",
                "\n",
                "We will visualize vectors and directions using `matplotlib` "
            ],
            "outputs": []
        },
        {
            "cell_type": "code",
            "execution_count": null,
            "metadata": {},
            "outputs": [],
            "source": [
                "import numpy as np\n",
                "import matplotlib.pyplot as plt\n",
                "\n",
                "plt.figure(figsize=(10, 10))\n",
                "ax = plt.gca()\n",
                "X = inputs[0]['X']\n",
                "vecs = np.concatenate([np.zeros_like(X), X.T], axis=1)\n",
                "X, Y, U, V = zip(*vecs)\n",
                "ax.quiver(X, Y, U, V, angles='xy', scale_units='xy', scale=1, color = 'red')\n",
                "\n",
                "X = answers['directions'][0] * 2\n",
                "norms = np.concatenate([np.zeros_like(X), X.T], axis=1)\n",
                "X, Y, U, V = zip(*norms)\n",
                "ax.quiver(X, Y, U, V, angles='xy', scale_units='xy', scale=1, color = 'blue')\n",
                "ax.set_xlim([-10, 10])\n",
                "ax.set_ylim([-10, 10])\n",
                "plt.draw()\n",
                "plt.grid()\n",
                "plt.legend(['original', 'normalized'])\n",
                "plt.show()\n"
            ]
        },
        {
            "cell_type": "markdown",
            "metadata": {},
            "source": [
                "# Task 4. Scalar Product\n",
                "\n",
                "Write a function that calculates\n",
                "- cosine distance between the vectors\n",
                "- use $10^{-8}$ additional constant in the denominator for the sake of numerical stability"
            ],
            "outputs": []
        },
        {
            "cell_type": "code",
            "execution_count": null,
            "metadata": {},
            "outputs": [],
            "source": [
                "def get_cosine(X):\n",
                "    res = None\n",
                "    ## YOUR CODE HERE\n",
                "    return res"
            ]
        },
        {
            "cell_type": "code",
            "execution_count": null,
            "metadata": {},
            "outputs": [],
            "source": [
                "answers['cosine'] = [\n",
                "    get_cosine(**inp) for inp in inputs\n",
                "]"
            ]
        },
        {
            "cell_type": "markdown",
            "metadata": {},
            "source": [
                "# Task 5. Orthonormalization\n",
                "\n",
                "Create a pair of orthonormal vectors\n",
                "- Take the first vector and normalize it\n",
                "- Take the second vector, remove the collinear component to the first one\n",
                "- Normalize it"
            ],
            "outputs": []
        },
        {
            "cell_type": "code",
            "execution_count": null,
            "metadata": {},
            "outputs": [],
            "source": [
                "def get_orthonormal(X):\n",
                "    res = X.copy().astype('float32')\n",
                "    ## YOUR CODE HERE\n",
                "\n",
                "    return res"
            ]
        },
        {
            "cell_type": "code",
            "execution_count": null,
            "metadata": {},
            "outputs": [],
            "source": [
                "answers['orthonormal'] = [\n",
                "    get_orthonormal(**inp) for inp in inputs\n",
                "]"
            ]
        },
        {
            "cell_type": "markdown",
            "metadata": {},
            "source": [
                "# 6. Visualization"
            ],
            "outputs": []
        },
        {
            "cell_type": "code",
            "execution_count": null,
            "metadata": {},
            "outputs": [],
            "source": [
                "import numpy as np\n",
                "import matplotlib.pyplot as plt\n",
                "\n",
                "plt.figure(figsize=(10, 10))\n",
                "ax = plt.gca()\n",
                "X = inputs[0]['X']\n",
                "print(X)\n",
                "vecs = np.concatenate([np.zeros_like(X), X.T], axis=1)\n",
                "X, Y, U, V = zip(*vecs)\n",
                "ax.quiver(X, Y, U, V, angles='xy', scale_units='xy', scale=1, color = 'red')\n",
                "\n",
                "X = answers['orthonormal'][0] * 2\n",
                "print(X)\n",
                "norms = np.concatenate([np.zeros_like(X), X.T], axis=1)\n",
                "X, Y, U, V = zip(*norms)\n",
                "ax.quiver(X, Y, U, V, angles='xy', scale_units='xy', scale=1, color = 'blue')\n",
                "ax.set_xlim([-10, 10])\n",
                "ax.set_ylim([-10, 10])\n",
                "plt.draw()\n",
                "plt.grid()\n",
                "plt.legend(['original', 'normalized'])\n",
                "plt.show()\n"
            ]
        },
        {
            "cell_type": "markdown",
            "metadata": {},
            "source": [
                "# 7. Saving the answer"
            ],
            "outputs": []
        },
        {
            "cell_type": "code",
            "execution_count": null,
            "metadata": {},
            "outputs": [],
            "source": [
                "json_tricks.dump(answers, '.answer.json')"
            ]
        }
    ],
    "metadata": {
        "kernelspec": {
            "display_name": "Python 3",
            "language": "python",
            "name": "python3"
        },
        "language_info": {
            "codemirror_mode": {
                "name": "ipython",
                "version": 3
            },
            "file_extension": ".py",
            "mimetype": "text/x-python",
            "name": "python",
            "nbconvert_exporter": "python",
            "pygments_lexer": "ipython3",
            "version": "3.11.11"
        }
    },
    "nbformat": 4,
    "nbformat_minor": 2
=======
{
    "cells": [
        {
            "cell_type": "markdown",
            "metadata": {},
            "source": [
                "# Vectors Practice"
            ],
            "outputs": []
        },
        {
            "cell_type": "markdown",
            "metadata": {},
            "source": [
                "In this chapter we will work with vectors and code Gramm-Schmidt Orthonormalization Algorithm"
            ],
            "outputs": []
        },
        {
            "cell_type": "code",
            "execution_count": null,
            "metadata": {},
            "outputs": [],
            "source": [
                "import numpy as np\n",
                "import matplotlib.pyplot as plt\n",
                "import lovely_numpy as ln\n",
                "import json_tricks\n",
                "\n"
            ]
        },
        {
            "cell_type": "code",
            "execution_count": null,
            "metadata": {},
            "outputs": [],
            "source": [
                "inputs = json_tricks.load('inputs/inputs.json')\n",
                "answers = {}"
            ]
        },
        {
            "cell_type": "markdown",
            "metadata": {},
            "source": [
                "In your input you have arrys of shape $N \\times 2$, which means that you have 2 vectors both having N coordinates"
            ],
            "outputs": []
        },
        {
            "cell_type": "code",
            "execution_count": null,
            "metadata": {},
            "outputs": [],
            "source": [
                "for one_input in inputs:\n",
                "    print(ln.lovely(one_input['X']))"
            ]
        },
        {
            "cell_type": "markdown",
            "metadata": {},
            "source": [
                "# Task 1. Vector lenghts\n",
                "\n",
                "- Write a function that calculates vector lengths, answer should return array of shape $2$\n",
                "- Apply this function to all the inputs"
            ],
            "outputs": []
        },
        {
            "cell_type": "code",
            "execution_count": null,
            "metadata": {},
            "outputs": [],
            "source": [
                "def get_length(X):\n",
                "    res = None\n",
                "    ## YOUR CODE HERE\n",
                "    return res"
            ]
        },
        {
            "cell_type": "code",
            "execution_count": null,
            "metadata": {},
            "outputs": [],
            "source": [
                "answers['lengths'] = [\n",
                "    get_length(**inp) for inp in inputs\n",
                "]"
            ]
        },
        {
            "cell_type": "markdown",
            "metadata": {},
            "source": [
                "# Task 2. Vector directions\n",
                "\n",
                "- Write a function that calculates vector directions. Result should be of the same shape as the original array X\n",
                "- Use $10^{-8}$ addition in division to avoid division by zero\n",
                "- Apply this function to all arrays in the inputs"
            ],
            "outputs": []
        },
        {
            "cell_type": "code",
            "execution_count": null,
            "metadata": {},
            "outputs": [],
            "source": [
                "def get_directions(X):\n",
                "    res = None\n",
                "    ## YOUR CODE HERE\n",
                "    return res"
            ]
        },
        {
            "cell_type": "code",
            "execution_count": null,
            "metadata": {},
            "outputs": [],
            "source": [
                "answers['directions'] = [\n",
                "    get_directions(**inp) for inp in inputs\n",
                "]"
            ]
        },
        {
            "cell_type": "markdown",
            "metadata": {},
            "source": [
                "# Step 3. Visualization\n",
                "\n",
                "We will visualize vectors and directions using `matplotlib` "
            ],
            "outputs": []
        },
        {
            "cell_type": "code",
            "execution_count": null,
            "metadata": {},
            "outputs": [],
            "source": [
                "import numpy as np\n",
                "import matplotlib.pyplot as plt\n",
                "\n",
                "plt.figure(figsize=(10, 10))\n",
                "ax = plt.gca()\n",
                "X = inputs[0]['X']\n",
                "vecs = np.concatenate([np.zeros_like(X), X.T], axis=1)\n",
                "X, Y, U, V = zip(*vecs)\n",
                "ax.quiver(X, Y, U, V, angles='xy', scale_units='xy', scale=1, color = 'red')\n",
                "\n",
                "X = answers['directions'][0] * 2\n",
                "norms = np.concatenate([np.zeros_like(X), X.T], axis=1)\n",
                "X, Y, U, V = zip(*norms)\n",
                "ax.quiver(X, Y, U, V, angles='xy', scale_units='xy', scale=1, color = 'blue')\n",
                "ax.set_xlim([-10, 10])\n",
                "ax.set_ylim([-10, 10])\n",
                "plt.draw()\n",
                "plt.grid()\n",
                "plt.legend(['original', 'normalized'])\n",
                "plt.show()\n"
            ]
        },
        {
            "cell_type": "markdown",
            "metadata": {},
            "source": [
                "# Task 4. Scalar Product\n",
                "\n",
                "Write a function that calculates\n",
                "- cosine distance between the vectors\n",
                "- use $10^{-8}$ additional constant in the denominator for the sake of numerical stability"
            ],
            "outputs": []
        },
        {
            "cell_type": "code",
            "execution_count": null,
            "metadata": {},
            "outputs": [],
            "source": [
                "def get_cosine(X):\n",
                "    res = None\n",
                "    ## YOUR CODE HERE\n",
                "    return res"
            ]
        },
        {
            "cell_type": "code",
            "execution_count": null,
            "metadata": {},
            "outputs": [],
            "source": [
                "answers['cosine'] = [\n",
                "    get_cosine(**inp) for inp in inputs\n",
                "]"
            ]
        },
        {
            "cell_type": "markdown",
            "metadata": {},
            "source": [
                "# Task 5. Orthonormalization\n",
                "\n",
                "Create a pair of orthonormal vectors\n",
                "- Take the first vector and normalize it\n",
                "- Take the second vector, remove the collinear component to the first one\n",
                "- Normalize it"
            ],
            "outputs": []
        },
        {
            "cell_type": "code",
            "execution_count": null,
            "metadata": {},
            "outputs": [],
            "source": [
                "def get_orthonormal(X):\n",
                "    res = X.copy().astype('float32')\n",
                "    ## YOUR CODE HERE\n",
                "\n",
                "    return res"
            ]
        },
        {
            "cell_type": "code",
            "execution_count": null,
            "metadata": {},
            "outputs": [],
            "source": [
                "answers['orthonormal'] = [\n",
                "    get_orthonormal(**inp) for inp in inputs\n",
                "]"
            ]
        },
        {
            "cell_type": "markdown",
            "metadata": {},
            "source": [
                "# 6. Visualization"
            ],
            "outputs": []
        },
        {
            "cell_type": "code",
            "execution_count": null,
            "metadata": {},
            "outputs": [],
            "source": [
                "import numpy as np\n",
                "import matplotlib.pyplot as plt\n",
                "\n",
                "plt.figure(figsize=(10, 10))\n",
                "ax = plt.gca()\n",
                "X = inputs[0]['X']\n",
                "print(X)\n",
                "vecs = np.concatenate([np.zeros_like(X), X.T], axis=1)\n",
                "X, Y, U, V = zip(*vecs)\n",
                "ax.quiver(X, Y, U, V, angles='xy', scale_units='xy', scale=1, color = 'red')\n",
                "\n",
                "X = answers['orthonormal'][0] * 2\n",
                "print(X)\n",
                "norms = np.concatenate([np.zeros_like(X), X.T], axis=1)\n",
                "X, Y, U, V = zip(*norms)\n",
                "ax.quiver(X, Y, U, V, angles='xy', scale_units='xy', scale=1, color = 'blue')\n",
                "ax.set_xlim([-10, 10])\n",
                "ax.set_ylim([-10, 10])\n",
                "plt.draw()\n",
                "plt.grid()\n",
                "plt.legend(['original', 'normalized'])\n",
                "plt.show()\n"
            ]
        },
        {
            "cell_type": "markdown",
            "metadata": {},
            "source": [
                "# 7. Saving the answer"
            ],
            "outputs": []
        },
        {
            "cell_type": "code",
            "execution_count": null,
            "metadata": {},
            "outputs": [],
            "source": [
                "json_tricks.dump(answers, '.answer.json')"
            ]
        }
    ],
    "metadata": {
        "kernelspec": {
            "display_name": "Python 3",
            "language": "python",
            "name": "python3"
        },
        "language_info": {
            "codemirror_mode": {
                "name": "ipython",
                "version": 3
            },
            "file_extension": ".py",
            "mimetype": "text/x-python",
            "name": "python",
            "nbconvert_exporter": "python",
            "pygments_lexer": "ipython3",
            "version": "3.11.11"
        }
    },
    "nbformat": 4,
    "nbformat_minor": 2
>>>>>>> upstream/main
}